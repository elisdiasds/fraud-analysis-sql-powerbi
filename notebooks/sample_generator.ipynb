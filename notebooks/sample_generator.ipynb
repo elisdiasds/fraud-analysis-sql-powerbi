{
  "nbformat": 4,
  "nbformat_minor": 0,
  "metadata": {
    "colab": {
      "provenance": []
    },
    "kernelspec": {
      "name": "python3",
      "display_name": "Python 3"
    },
    "language_info": {
      "name": "python"
    }
  },
  "cells": [
    {
      "cell_type": "markdown",
      "source": [
        "##  Carregar o dataset\n",
        "Vamos usar o Pandas para ler o arquivo original e visualizar as primeiras linhas."
      ],
      "metadata": {
        "id": "VdIGQr-Nmxbq"
      }
    },
    {
      "cell_type": "code",
      "source": [
        "import pandas as pd\n",
        "# Carregar o dataset original\n",
        "df = pd.read_csv('/content/creditcard.csv')\n",
        "sample = df.head(1000)\n",
        "# Salva a amostra como novo arquivo csv\n",
        "sample.to_csv('/content/sample_creditcard.csv', index=False)"
      ],
      "metadata": {
        "id": "OJDX7ROUk7oM"
      },
      "execution_count": 3,
      "outputs": []
    }
  ]
}